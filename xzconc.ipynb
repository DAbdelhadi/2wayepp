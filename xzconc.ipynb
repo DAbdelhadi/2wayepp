{
 "cells": [
  {
   "cell_type": "code",
   "execution_count": 8,
   "id": "initial_id",
   "metadata": {
    "collapsed": true,
    "ExecuteTime": {
     "end_time": "2023-12-19T11:12:08.369671472Z",
     "start_time": "2023-12-19T11:12:08.321610744Z"
    }
   },
   "outputs": [],
   "source": [
    "from rep_concat_scheme import *\n",
    "from tqdm import tqdm\n",
    "%matplotlib notebook\n",
    "import matplotlib.pyplot as plt\n",
    "import matplotlib\n",
    "matplotlib.use('TkAgg')"
   ]
  },
  {
   "cell_type": "code",
   "execution_count": 9,
   "outputs": [],
   "source": [
    "def xzrepconc(mx,mz,px_0,py_0,pz_0):\n",
    "    concatenated_rate = 0\n",
    "    for rx in range(0, mx):\n",
    "        for rz in range(0, mz):\n",
    "            #new channel after z repetition: \n",
    "            pI_1,px_1,py_1,pz_1 = new_channel(rz,mz,px_0,py_0,pz_0)\n",
    "            probability_z_syndrome = probability_of_a_syndrome(rz, mz, px_0,py_0,pz_0)\n",
    "            \n",
    "            #for x-repetition code switch px and pz\n",
    "            px_2 = pz_1\n",
    "            pz_2 = px_1\n",
    "            \n",
    "            p_syndrome_x_z = probability_of_a_syndrome(rx, mx, px_2,py_1,pz_2)*probability_z_syndrome\n",
    "            coefficient = binom(mx - 1, rx)*binom(mz - 1, rz)\n",
    "            \n",
    "            concatenated_rate += coefficient * p_syndrome_x_z * max(0, rate(new_channel(rx, mx,px_2,py_1,pz_2)))\n",
    "    return concatenated_rate / (mx*mz)"
   ],
   "metadata": {
    "collapsed": false,
    "ExecuteTime": {
     "end_time": "2023-12-19T11:12:08.784543620Z",
     "start_time": "2023-12-19T11:12:08.781633574Z"
    }
   },
   "id": "7b6a43ad968b15f0"
  },
  {
   "cell_type": "code",
   "execution_count": 10,
   "outputs": [],
   "source": [
    "def xz_get_best_rate(pX, pY, pZ, max_mx, max_mz):\n",
    "    pvec = [1 - pX - pY - pZ, pX, pY, pZ]\n",
    "    best_rate = rate(pvec)\n",
    "    for mx in range(2, max_mx):\n",
    "        for mz in range(2, max_mz):\n",
    "            r = xzrepconc(mx,mz,pX, pY, pZ)\n",
    "            if r >= best_rate:\n",
    "                best_rate = r\n",
    "    \n",
    "    return max(best_rate,get_best_rate(pX, pY, pZ, max_mz))\n"
   ],
   "metadata": {
    "collapsed": false,
    "ExecuteTime": {
     "end_time": "2023-12-19T11:12:09.304222397Z",
     "start_time": "2023-12-19T11:12:09.286989255Z"
    }
   },
   "id": "6eb9a0e8794e7ea8"
  },
  {
   "cell_type": "code",
   "execution_count": 11,
   "outputs": [
    {
     "name": "stderr",
     "output_type": "stream",
     "text": [
      "100%|██████████| 50/50 [00:07<00:00,  7.07it/s]\n"
     ]
    }
   ],
   "source": [
    "fidelity_range = np.arange(0.5,1,0.01)\n",
    "RC = []\n",
    "RCxz = []\n",
    "max_rep = 5\n",
    "for f in tqdm(fidelity_range):\n",
    "    p_pauli = (1-f)/3\n",
    "    RC.append(get_best_rate(p_pauli,p_pauli,p_pauli,max_rep*3))\n",
    "    RCxz.append(xz_get_best_rate(p_pauli, p_pauli, p_pauli, max_rep, 2*max_rep))"
   ],
   "metadata": {
    "collapsed": false,
    "ExecuteTime": {
     "end_time": "2023-12-19T11:12:16.866848594Z",
     "start_time": "2023-12-19T11:12:09.761964001Z"
    }
   },
   "id": "edff78d904eb5c9f"
  },
  {
   "cell_type": "code",
   "execution_count": 12,
   "outputs": [],
   "source": [
    "plt.interactive(False)\n",
    "\n",
    "plt.plot(fidelity_range,RCxz,label='xz')\n",
    "plt.plot(fidelity_range,RC,label='z')\n",
    "plt.legend()\n",
    "plt.show(block=True)"
   ],
   "metadata": {
    "collapsed": false,
    "ExecuteTime": {
     "end_time": "2023-12-19T11:12:28.433038041Z",
     "start_time": "2023-12-19T11:12:17.456543924Z"
    }
   },
   "id": "88957a99224e6078"
  },
  {
   "cell_type": "code",
   "execution_count": 5,
   "outputs": [],
   "source": [],
   "metadata": {
    "collapsed": false,
    "ExecuteTime": {
     "end_time": "2023-12-19T10:51:52.467123430Z",
     "start_time": "2023-12-19T10:51:52.462058448Z"
    }
   },
   "id": "489a21cbd6fa1c7f"
  },
  {
   "cell_type": "code",
   "execution_count": 5,
   "outputs": [],
   "source": [],
   "metadata": {
    "collapsed": false,
    "ExecuteTime": {
     "end_time": "2023-12-19T10:51:52.467560158Z",
     "start_time": "2023-12-19T10:51:52.462229287Z"
    }
   },
   "id": "f7377ddf9aa8c51a"
  }
 ],
 "metadata": {
  "kernelspec": {
   "display_name": "Python 3",
   "language": "python",
   "name": "python3"
  },
  "language_info": {
   "codemirror_mode": {
    "name": "ipython",
    "version": 2
   },
   "file_extension": ".py",
   "mimetype": "text/x-python",
   "name": "python",
   "nbconvert_exporter": "python",
   "pygments_lexer": "ipython2",
   "version": "2.7.6"
  }
 },
 "nbformat": 4,
 "nbformat_minor": 5
}
