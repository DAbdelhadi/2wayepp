{
 "cells": [
  {
   "cell_type": "code",
   "execution_count": 1,
   "id": "initial_id",
   "metadata": {
    "collapsed": true,
    "ExecuteTime": {
     "end_time": "2023-12-19T15:19:45.096226907Z",
     "start_time": "2023-12-19T15:19:44.697323508Z"
    }
   },
   "outputs": [],
   "source": [
    "import matplotlib.pyplot as plt\n",
    "from important_functions import *"
   ]
  },
  {
   "cell_type": "code",
   "execution_count": 2,
   "outputs": [],
   "source": [
    "def recurrence(p00,p01,p10,p11):\n",
    "    #https://journals.aps.org/pra/pdf/10.1103/PhysRevA.54.3824 eqn (42,43)\n",
    "    p_pass = (p00+p10)**2+(p01+p11)**2\n",
    "    p00_new = (p00**2+p10**2)/p_pass\n",
    "    p01_new = (p01**2+p11**2)/p_pass\n",
    "    p10_new = 2*p00*p10/p_pass\n",
    "    p11_new =  2*p01*p11/p_pass\n",
    "    return p00_new,p01_new,p10_new,p11_new,p_pass\n",
    "\n",
    "def xrecurrence(p00,p01,p10,p11):\n",
    "    return recurrence(p00,p10,p01,p11)"
   ],
   "metadata": {
    "collapsed": false,
    "ExecuteTime": {
     "end_time": "2023-12-19T15:19:46.771251583Z",
     "start_time": "2023-12-19T15:19:46.759985420Z"
    }
   },
   "id": "6abff2c3b8e734d2"
  },
  {
   "cell_type": "code",
   "execution_count": 3,
   "outputs": [],
   "source": [
    "def improved_z_recurrence(p00,p01,p10,p11):\n",
    "    max_iter = 1000\n",
    "    p_iter = 1\n",
    "    p00_new,p01_new,p10_new,p11_new = p00,p01,p10,p11\n",
    "    hash_now = p_iter*(1/2**0)*hashing([p00,p01,p10,p11])\n",
    "    for iter in range(max_iter):\n",
    "\n",
    "        p00_new,p01_new,p10_new,p11_new,p_pass = recurrence(p00_new,p01_new,p10_new,p11_new)\n",
    "        p_iter = p_pass*p_iter\n",
    "        hash_after_recurrence_step = p_iter*(1/2**(iter+1))*hashing([p00_new,p01_new,p10_new,p11_new])\n",
    "        if hash_now > hash_after_recurrence_step:\n",
    "            break\n",
    "        else:\n",
    "            hash_now = hash_after_recurrence_step\n",
    "    return hash_now,iter"
   ],
   "metadata": {
    "collapsed": false,
    "ExecuteTime": {
     "end_time": "2023-12-19T15:19:49.647679400Z",
     "start_time": "2023-12-19T15:19:49.631049167Z"
    }
   },
   "id": "c90bd48786ffe876"
  },
  {
   "cell_type": "code",
   "execution_count": 19,
   "outputs": [],
   "source": [
    "def improved_xz_recurrence(p00,p01,p10,p11):\n",
    "    max_iter = 1000\n",
    "    p_iter = 1\n",
    "    p00_new,p01_new,p10_new,p11_new = p00,p01,p10,p11\n",
    "    hash_now = p_iter*(1/2**0)*hashing([p00,p01,p10,p11])\n",
    "    for iter in range(max_iter):\n",
    "\n",
    "        p00_newz,p01_newz,p10_newz,p11_newz,p_passz = recurrence(p00_new,p01_new,p10_new,p11_new)\n",
    "        p_iterz = p_passz*p_iter\n",
    "        hash_after_z_recurrence_step = p_iterz*(1/2**(iter+1))*hashing([p00_newz,p01_newz,p10_newz,p11_newz])\n",
    "        \n",
    "        p00_newx,p01_newx,p10_newx,p11_newx,p_passx = xrecurrence(p00_new,p01_new,p10_new,p11_new)\n",
    "        p_iterx = p_passx*p_iter\n",
    "        hash_after_x_recurrence_step = p_iterx*(1/2**(iter+1))*hashing([p00_newx,p01_newx,p10_newx,p11_newx])\n",
    "        \n",
    "        if hash_after_x_recurrence_step > hash_after_z_recurrence_step:\n",
    "            hash_after_recurrence_step = hash_after_x_recurrence_step\n",
    "            p_iter = p_iterx\n",
    "            p00_new,p01_new,p10_new,p11_new = p00_newx,p01_newx,p10_newx,p11_newx\n",
    "        else:\n",
    "            hash_after_recurrence_step = hash_after_z_recurrence_step\n",
    "            p_iter = p_iterz\n",
    "            p00_new,p01_new,p10_new,p11_new = p00_newz,p01_newz,p10_newz,p11_newz\n",
    "        \n",
    "        if hash_now > hash_after_recurrence_step:\n",
    "            break\n",
    "        else:\n",
    "            hash_now = hash_after_recurrence_step\n",
    "    return hash_now,iter"
   ],
   "metadata": {
    "collapsed": false,
    "ExecuteTime": {
     "end_time": "2023-12-19T06:32:56.263177382Z",
     "start_time": "2023-12-19T06:32:56.217489937Z"
    }
   },
   "id": "e2932ec48d6ec242"
  },
  {
   "cell_type": "code",
   "execution_count": 20,
   "outputs": [],
   "source": [
    "prange = np.arange(0.01,1,0.01)\n",
    "IR = []\n",
    "for p in prange:\n",
    "    IR.append(improved_xz_recurrence(1-p,p/3,p/3,p/3)[0])"
   ],
   "metadata": {
    "collapsed": false,
    "ExecuteTime": {
     "end_time": "2023-12-19T06:33:08.027714102Z",
     "start_time": "2023-12-19T06:33:01.679091085Z"
    }
   },
   "id": "fd28cf35a364c5b0"
  },
  {
   "cell_type": "code",
   "execution_count": 21,
   "outputs": [
    {
     "data": {
      "text/plain": "[<matplotlib.lines.Line2D at 0x7f20f870e3d0>]"
     },
     "execution_count": 21,
     "metadata": {},
     "output_type": "execute_result"
    },
    {
     "data": {
      "text/plain": "<Figure size 640x480 with 1 Axes>",
      "image/png": "[encoded data removed]"
     },
     "metadata": {},
     "output_type": "display_data"
    }
   ],
   "source": [
    "plt.plot(prange,IR)"
   ],
   "metadata": {
    "collapsed": false,
    "ExecuteTime": {
     "end_time": "2023-12-19T06:33:10.703709143Z",
     "start_time": "2023-12-19T06:33:10.520880002Z"
    }
   },
   "id": "e8b1cf6a50c161e0"
  },
  {
   "cell_type": "code",
   "execution_count": null,
   "outputs": [],
   "source": [],
   "metadata": {
    "collapsed": false
   },
   "id": "16773fcd20a4b835"
  }
 ],
 "metadata": {
  "kernelspec": {
   "display_name": "Python 3",
   "language": "python",
   "name": "python3"
  },
  "language_info": {
   "codemirror_mode": {
    "name": "ipython",
    "version": 2
   },
   "file_extension": ".py",
   "mimetype": "text/x-python",
   "name": "python",
   "nbconvert_exporter": "python",
   "pygments_lexer": "ipython2",
   "version": "2.7.6"
  }
 },
 "nbformat": 4,
 "nbformat_minor": 5
}
